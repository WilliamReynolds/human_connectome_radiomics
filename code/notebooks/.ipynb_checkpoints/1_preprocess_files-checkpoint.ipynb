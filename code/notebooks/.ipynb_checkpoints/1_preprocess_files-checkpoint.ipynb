{
 "cells": [
  {
   "cell_type": "code",
   "execution_count": null,
   "id": "e0a6e1b9",
   "metadata": {},
   "outputs": [],
   "source": [
    "import os, sys, time, re\n",
    "from zipfile import ZipFile\n",
    "from tqdm import tqdm \n",
    "import shutil\n",
    "import pickle"
   ]
  },
  {
   "cell_type": "code",
   "execution_count": null,
   "id": "3de982c5",
   "metadata": {},
   "outputs": [],
   "source": [
    "file_loc = '' # Enter location of raw files\n",
    "storage_loc = os.path.join(file_loc, 'file_storage')\n",
    "\n",
    "if not os.path.isdir(storage_loc):\n",
    "    os.makedirs(storage_loc, exist_ok = True)\n",
    "\n",
    "contents = os.listdir(file_loc)\n",
    "p1 = re.compile('.*zip$')\n",
    "\n",
    "contents.sort()\n",
    "\n",
    "seg_files = []\n",
    "t1_files = []\n",
    "t2_files = []\n",
    "for c in tqdm(contents):\n",
    "    t1_file, t2_file, seg_file = '', '', ''\n",
    "    \n",
    "    m = p1.search(c)\n",
    "    if m:\n",
    "        \n",
    "        subj_storage_dir = os.path.join(storage_loc, subj_id)\n",
    "        if not os.path.isdir(subj_storage_dir):\n",
    "            os.makedirs(subj_storage_dir, exist_ok = True)\n",
    "            \n",
    "            \n",
    "        full_path = os.path.join(file_loc, m.group())\n",
    "        subj_id = m.group().split('_')[0]\n",
    "        out_path = os.path.join(file_loc, subj_id)\n",
    "        \n",
    "        \n",
    "        if not os.path.isdir(out_path):\n",
    "            with ZipFile(full_path, 'r') as f:\n",
    "                f.extractall(out_path)\n",
    "            \n",
    "        for root, dirs, files in os.walk(out_path):\n",
    "            for f in files:\n",
    "                if re.search('^aseg.hires.nii', f):\n",
    "                    seg_file = os.path.join(root,f)  \n",
    "                    seg_files.append(os.path.join(subj_storage_dir, f))\n",
    "                if re.search('^T1w_hires.nii', f):\n",
    "                    t1_file = os.path.join(root,f)\n",
    "                    t1_files.append(os.path.join(subj_storage_dir, f))\n",
    "                if re.search('^T2w_hires.nii', f):\n",
    "                    t2_file = os.path.join(root,f)\n",
    "                    t2_files.append(os.path.join(subj_storage_dir, f))\n",
    "                    \n",
    "        for f in [seg_file, t1_file, t2_file]:\n",
    "            shutil.copy(f, subj_storage_dir)\n",
    "            \n",
    "        if os.path.isdir(out_path):\n",
    "            shutil.rmtree(out_path)"
   ]
  },
  {
   "cell_type": "code",
   "execution_count": null,
   "id": "24cd3c08",
   "metadata": {
    "scrolled": true
   },
   "outputs": [],
   "source": [
    "for i, name in zip([seg_files, t1_files, t2_files], [\"Seg\", \"T1\", \"T2\"]):\n",
    "    print(name)\n",
    "    for val in i:\n",
    "        print(\"\\t\" + val)"
   ]
  },
  {
   "cell_type": "code",
   "execution_count": null,
   "id": "554af37a",
   "metadata": {},
   "outputs": [],
   "source": [
    "all_list = [seg_files, t1_files, t2_files]\n",
    "out_list_loc = os.path.join(storage_loc, \"file_pickles.pkl\")\n",
    "with open(out_list_loc, 'wb') as f:\n",
    "    pickle.dump(all_list, f)"
   ]
  }
 ],
 "metadata": {
  "kernelspec": {
   "display_name": "Python 3 (ipykernel)",
   "language": "python",
   "name": "python3"
  },
  "language_info": {
   "codemirror_mode": {
    "name": "ipython",
    "version": 3
   },
   "file_extension": ".py",
   "mimetype": "text/x-python",
   "name": "python",
   "nbconvert_exporter": "python",
   "pygments_lexer": "ipython3",
   "version": "3.7.10"
  }
 },
 "nbformat": 4,
 "nbformat_minor": 5
}
